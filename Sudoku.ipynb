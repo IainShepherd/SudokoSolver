{
 "cells": [
  {
   "cell_type": "markdown",
   "metadata": {},
   "source": [
    "# Sudoku Solver!\n",
    "\n",
    "This program is for solving Sudoku!! It works by creating a Sudoku class which houses the Rows, Columns and Squares which are the constraints and the 81 Nodes which are the things to be filled.  It has basic logic to eliminate options (from those which would violate rules) and one logic piece to search from rows that are unique to squares etc.  \n",
    "\n",
    "To pass a sudoku in to solve, it should be in a text file where each row is a row and then each charactor is either a number (solved) or a zero (empty).  \n",
    "\n",
    "In its current form it can solve easy to hard problems but not very hard ones.  The next stage is either to build int more logic to help solve the sudoku or to build in a path finding system for trial and error solving.  \n",
    "\n",
    "## Trial and Error\n",
    "\n",
    "This needs programming.  \n",
    "\n",
    "1. Solve with logic\n",
    "2. Examine each row, column, square, node to find the one with the fewest options left.\n",
    "\n",
    "For example, with each node there will be in node.Nums a list of possible options remaining for that node.  \n",
    "\n",
    "With each row, there will be a list of solved numbers in that row (in row.Numfilled) and therefore the number of unsolved.  Within each of those there (e.g. 1) there will be a number of nodes that can be it.  Find an option within the row with the fewest possible nodes that can solve it.  This is a bit more tricky but may yeild fewer branch points.  \n",
    "\n",
    "\n",
    "Check this row to find the key with the fewest option nodes and report the key and its count\n",
    "```\n",
    "\n",
    "with row as r:\n",
    "    C = 9\n",
    "    for k, v in zip(r.Numfilled.keys(), r.Numfilled.values()):\n",
    "        if v == False:\n",
    "            c = 0\n",
    "            for n in r.Nodes:\n",
    "                if n.Nums[k] == True:\n",
    "                    c += 1\n",
    "            if c<C: \n",
    "                C = c\n",
    "                K = k\n",
    "    \n",
    "    return C, K\n",
    "\n",
    "```\n",
    "\n",
    "3. With the branching point with the fewest options, create child branches for all the options and solve all of them using the logic\n",
    "4. Check if there are breaches (e.g. any nodes are unsolved and have no options left); if so this branch is dead\n",
    "5. If unsolved and the logic is exausted repeat from 2 using the point with the most solved nodes\n",
    "6. Keep creating child points in this way until either the are proven to be wrong or the Sudoku is solved!\n",
    "\n"
   ]
  },
  {
   "cell_type": "code",
   "execution_count": 1,
   "metadata": {},
   "outputs": [],
   "source": [
    "class row:\n",
    "    def __init__(self, ID):\n",
    "        self.ID = ID\n",
    "\n",
    "        self.Nodes = []\n",
    "        self.Numfilled = {\n",
    "            1: False,\n",
    "            2: False,\n",
    "            3: False,\n",
    "            4: False,\n",
    "            5: False,\n",
    "            6: False,\n",
    "            7: False,\n",
    "            8: False,\n",
    "            9: False\n",
    "        }\n",
    "        self.NumNode = {\n",
    "            1: None,\n",
    "            2: None,\n",
    "            3: None,\n",
    "            4: None,\n",
    "            5: None,\n",
    "            6: None,\n",
    "            7: None,\n",
    "            8: None,\n",
    "            9: None\n",
    "        }\n",
    "\n",
    "\n",
    "class column:\n",
    "    def __init__(self, ID):\n",
    "        self.ID = ID\n",
    "        self.Nodes = []\n",
    "        self.Numfilled = {\n",
    "            1: False,\n",
    "            2: False,\n",
    "            3: False,\n",
    "            4: False,\n",
    "            5: False,\n",
    "            6: False,\n",
    "            7: False,\n",
    "            8: False,\n",
    "            9: False\n",
    "        }\n",
    "        self.NumNode = {\n",
    "            1: None,\n",
    "            2: None,\n",
    "            3: None,\n",
    "            4: None,\n",
    "            5: None,\n",
    "            6: None,\n",
    "            7: None,\n",
    "            8: None,\n",
    "            9: None\n",
    "        }\n",
    "\n",
    "\n",
    "class square:\n",
    "    def __init__(self, ID):\n",
    "        self.ID = ID\n",
    "        self.Rows = []\n",
    "        self.Columns = []\n",
    "        self.Nodes = []\n",
    "        self.Numfilled = {\n",
    "            1: False,\n",
    "            2: False,\n",
    "            3: False,\n",
    "            4: False,\n",
    "            5: False,\n",
    "            6: False,\n",
    "            7: False,\n",
    "            8: False,\n",
    "            9: False\n",
    "        }\n",
    "        self.NumNode = {\n",
    "            1: None,\n",
    "            2: None,\n",
    "            3: None,\n",
    "            4: None,\n",
    "            5: None,\n",
    "            6: None,\n",
    "            7: None,\n",
    "            8: None,\n",
    "            9: None\n",
    "        }\n",
    "\n",
    "\n",
    "class node:\n",
    "    def __init__(self, ID, rowObj, columnObj, squareObj):\n",
    "        self.ID = ID\n",
    "        self.rowObj = rowObj\n",
    "        self.columnObj = columnObj\n",
    "        self.squareObj = squareObj\n",
    "        self.Nums = {\n",
    "            1: True,\n",
    "            2: True,\n",
    "            3: True,\n",
    "            4: True,\n",
    "            5: True,\n",
    "            6: True,\n",
    "            7: True,\n",
    "            8: True,\n",
    "            9: True\n",
    "        }\n",
    "        self.NumLeft = 9\n",
    "        self.Filled = 0\n",
    "\n",
    "    def updateObjs(self, obj, opt):\n",
    "        obj.Numfilled[opt] = True\n",
    "        obj.NumNode[opt] = self\n",
    "        for n in obj.Nodes:\n",
    "            if n.ID != self.ID:\n",
    "                n.Nums[opt] = False\n",
    "                n.NumLeft += -1\n",
    "                #n.check_oneleft()\n",
    "                #n.remove_option(opt)\n",
    "    \n",
    "    '''         \n",
    "    def when_filled(self, opt):\n",
    "        for n in self.rowObj.nodes:\n",
    "            n.remove_option(opt)\n",
    "        for n in self.columnObj.nodes:\n",
    "            n.remove_option(opt)\n",
    "        for n in self.squareObj.nodes:\n",
    "            n.remove_option(opt)\n",
    "    '''\n",
    "    \n",
    "    def fill(self, opt):\n",
    "        self.Filled = opt\n",
    "        for k in self.Nums.keys():\n",
    "            if k != opt:\n",
    "                self.Nums[k] = False\n",
    "        self.updateObjs(self.rowObj, opt)\n",
    "        self.updateObjs(self.columnObj, opt)\n",
    "        self.updateObjs(self.squareObj, opt)\n",
    "        #self.when_filled(k)\n",
    "\n",
    "    def check_oneleft(self):\n",
    "        if self.NumLeft == 1:\n",
    "            for k, v in zip(self.Nums.keys(), self.Nums.values()):\n",
    "                if v == True:\n",
    "                    self.fill(k)\n",
    "                    break\n",
    "\n",
    "    def remove_option(self, opt):\n",
    "        self.Nums[opt] = False\n",
    "        self.NumLeft += -1\n",
    "        #self.check_oneleft()\n",
    "\n",
    "\n",
    "class Sudoku:\n",
    "    def __init__(self, startingFile = None, startingString = \"\"):\n",
    "        # do something with starting\n",
    "        self.Rows = []\n",
    "        self.Columns = []\n",
    "        self.Squares = []\n",
    "        self.Nodes = []\n",
    "        self.setup()\n",
    "        \n",
    "        if startingFile != None:\n",
    "            with open(startingFile) as f:\n",
    "                g= zip(f, self.Rows)\n",
    "                for gg in g:\n",
    "                    h = zip(gg[0],gg[1].Nodes)\n",
    "                    for hh in h:\n",
    "                        if int(hh[0]) != 0:\n",
    "                            hh[1].fill(int(hh[0]))\n",
    "        \n",
    "        elif len(startingString)>1:\n",
    "            p = 0\n",
    "            for r in self.Rows:\n",
    "                for n in r.Nodes:\n",
    "                    if int(startingString[p:p+1]) != 0:\n",
    "                        n.fill(int(startingString[p:p+1]))\n",
    "                    p += 1\n",
    "                    #if startingString[p:p+1] == \"\\n\":\n",
    "                    #    p += 1\n",
    "        \n",
    "        \n",
    "        pass\n",
    "    \n",
    " \n",
    "\n",
    "\n",
    "    def setup(self):\n",
    "        for i in range(0, 9):\n",
    "            self.Rows.append(row(i))\n",
    "            self.Columns.append(column(i))\n",
    "            self.Squares.append(square(i))\n",
    "\n",
    "        rr = 0\n",
    "        cc = 0\n",
    "        for s in self.Squares:\n",
    "            for r in range(rr, rr + 3):\n",
    "                s.Rows.append(self.Rows[r])\n",
    "                \n",
    "            for c in range(cc, cc + 3):\n",
    "                s.Columns.append(self.Columns[c])\n",
    "\n",
    "            if cc != 6:\n",
    "                cc += 3\n",
    "            else:\n",
    "                cc = 0\n",
    "                rr += 3\n",
    "        \n",
    "        i = 0 \n",
    "        for s in self.Squares:\n",
    "            for r in s.Rows:\n",
    "                for c in s.Columns:\n",
    "                    n = node(i, r, c, s)\n",
    "                    i += 1\n",
    "                    self.Nodes.append(n)\n",
    "                    c.Nodes.append(n)\n",
    "                    r.Nodes.append(n)\n",
    "                    s.Nodes.append(n)\n",
    "\n",
    "    def checkByNum(self):\n",
    "        for n in self.Nodes:\n",
    "            if n.Filled == 0:\n",
    "                jj = 0\n",
    "                for j in range(1, 10):\n",
    "                    if n.Nums[j] == True:\n",
    "                        jj += 1\n",
    "\n",
    "                if jj == 1:\n",
    "                    for j in range(1, 10):\n",
    "                        if n.Nums[j] == True:\n",
    "                            n.fill(j)\n",
    "                            break\n",
    "        \n",
    "\n",
    "    def checkByObj(self, Obj):\n",
    "        # pass in self.rowObj etc\n",
    "        found = False\n",
    "        \n",
    "        for o in Obj:\n",
    "            # for each row\n",
    "            for k, v in zip(o.Numfilled.keys(), o.Numfilled.values()):\n",
    "                # check each number\n",
    "                if v == False:\n",
    "                    # if it is not filled check if only one slot\n",
    "                    F = 0\n",
    "                    for n in o.Nodes:\n",
    "                        if n.Nums[k] == True:\n",
    "                            N = n\n",
    "                            F += 1\n",
    "                    if F == 1:\n",
    "                        # if only one slot then fill it\n",
    "                        N.fill(k)\n",
    "                        found = True\n",
    "\n",
    "        return found\n",
    "                        \n",
    "                        \n",
    "                        \n",
    "    def checkUniqueByRow(self):\n",
    "        obj = self.Rows\n",
    "\n",
    "        for r in obj:\n",
    "            # for each row\n",
    "            for k, v in zip(r.Numfilled.keys(), r.Numfilled.values()):\n",
    "                # for each number\n",
    "                if v == False:\n",
    "                    # if not solved\n",
    "                    # check each node left as options\n",
    "                    hold = []\n",
    "                    for n in r.Nodes:\n",
    "                        if n.Nums[k] == True:\n",
    "                            hold.append(n.squareObj)\n",
    "\n",
    "                    if len(set(hold)) == 1:\n",
    "                        # If only one square is marked\n",
    "                        for n in hold[0].Nodes:\n",
    "                            if n.rowObj.ID != r.ID:\n",
    "                                # remove num as option\n",
    "                                # from the other nodes\n",
    "                                n.remove_option(k)\n",
    "\n",
    "    def checkUniqueByColumn(self):\n",
    "        obj = self.Columns\n",
    "\n",
    "        for c in obj:\n",
    "            # for each column\n",
    "            for k, v in zip(c.Numfilled.keys(), c.Numfilled.values()):\n",
    "                # for each number\n",
    "                if v == False:\n",
    "                    # if not solved\n",
    "                    # check each node left as options\n",
    "                    hold = []\n",
    "                    for n in c.Nodes:\n",
    "                        if n.Nums[k] == True:\n",
    "                            hold.append(n.squareObj)\n",
    "\n",
    "                    if len(set(hold)) == 1:\n",
    "                        # If only one square is marked\n",
    "                        for n in hold[0].Nodes:\n",
    "                            if n.columnObj.ID != c.ID:\n",
    "                                # remove num as option\n",
    "                                # from the other nodes\n",
    "                                n.remove_option(k)\n",
    "\n",
    "    def checkUniqueBySquare(self):\n",
    "        obj = self.Squares\n",
    "        \n",
    "        for s in obj:\n",
    "            # for each row\n",
    "            for k, v in zip(s.Numfilled.keys(), s.Numfilled.values()):\n",
    "                # for each number\n",
    "                if v == False:\n",
    "        \n",
    "                    \n",
    "                    # if not solved\n",
    "                    # check each node left as options\n",
    "                    holdrow = []\n",
    "                    holdcolumn = []\n",
    "                    for n in s.Nodes:\n",
    "                        if n.Nums[k] == True:\n",
    "                            holdrow.append(n.rowObj)\n",
    "                            holdcolumn.append(n.columnObj)\n",
    "                            \n",
    "                            \n",
    "                    if len(set(holdrow)) == 1:\n",
    "                        # If only one row is marked\n",
    "                        for n in holdrow[0].Nodes:\n",
    "                            if n.squareObj.ID != s.ID:\n",
    "                                # remove num as option\n",
    "                                # from the other nodes\n",
    "                                n.remove_option(k)\n",
    "\n",
    "                    if len(set(holdcolumn)) == 1:\n",
    "                        # If only one row is marked\n",
    "                        for n in holdcolumn[0].Nodes:\n",
    "                            if n.squareObj.ID != s.ID:\n",
    "                                # remove num as option\n",
    "                                # from the other nodes\n",
    "                                n.remove_option(k)\n",
    "                                \n",
    "        \n",
    "    \n",
    "    def printState(self):\n",
    "        l = lambda x: \"_\" if x.Filled == 0 else x.Filled\n",
    "        cc = 1\n",
    "        for r in self.Rows:\n",
    "            rr = 1\n",
    "            for n in r.Nodes:\n",
    "                print(l(n), end = \" \")\n",
    "                if (rr % 3 == 0) and (rr < 7):\n",
    "                    print(\"|\", end = \" \")\n",
    "                rr += 1\n",
    "            print(\"\")\n",
    "            if (cc  % 3 == 0) and (cc < 7):\n",
    "                print (\"---------------------\")\n",
    "            cc += 1\n",
    "            \n",
    "    def CheckSolution(self):\n",
    "        for r in self.Rows:\n",
    "            for i in range(1,10):\n",
    "                c = 0\n",
    "                for n in r.Nodes:\n",
    "                    if n.Filled == i:\n",
    "                        c += 1\n",
    "                if c > 1 or c == 0:\n",
    "                    print(f\"Error: {i}, found in row_{r.ID} {c} times\")\n",
    "\n",
    "                    \n",
    "        for r in self.Columns:\n",
    "            for i in range(1,10):\n",
    "                c = 0\n",
    "                for n in r.Nodes:\n",
    "                    if n.Filled == i:\n",
    "                        c += 1\n",
    "                if c > 1 or c == 0:\n",
    "                    print(f\"Error: {i}, found in column_{r.ID} {c} times\")\n",
    "                    \n",
    "        for r in self.Squares:\n",
    "            for i in range(1,10):\n",
    "                c = 0\n",
    "                for n in r.Nodes:\n",
    "                    if n.Filled == i:\n",
    "                        c += 1\n",
    "                if c > 1 or c == 0:\n",
    "                    print(f\"Error: {i}, found in square_{r.ID} {c} times\")\n",
    "                    \n",
    "    def CheckBreaches(self):\n",
    "        b = False\n",
    "        for n in self.Nodes:\n",
    "            #count trues\n",
    "            if n.Filled == 0:\n",
    "                c=0\n",
    "                for k, v in zip(n.Nums.keys(), n.Nums.values()):\n",
    "                    if v == True:\n",
    "                        c +=1\n",
    "                if c == 0:\n",
    "                    print(\"Breached\")\n",
    "                    b = True\n",
    "                    print(n.Nums)\n",
    "        return b\n",
    "\n",
    "    def StringOut(self):\n",
    "        stringOut = \"\"\n",
    "\n",
    "        cc = 1\n",
    "        for r in self.Rows:\n",
    "            rr = 1\n",
    "            for n in r.Nodes:\n",
    "                stringOut += str(n.Filled) \n",
    "            #stringOut += \"\\n\"\n",
    "\n",
    "        return stringOut\n",
    "                    "
   ]
  },
  {
   "cell_type": "code",
   "execution_count": 1891,
   "metadata": {},
   "outputs": [
    {
     "name": "stdout",
     "output_type": "stream",
     "text": [
      "1 _ _ | _ _ 7 | _ 9 _ \n",
      "_ 3 _ | _ 2 _ | _ _ 8 \n",
      "_ _ 9 | 6 _ _ | 5 _ _ \n",
      "---------------------\n",
      "_ _ 5 | 3 _ _ | 9 _ _ \n",
      "_ 1 _ | _ 8 _ | _ _ 2 \n",
      "6 _ _ | _ _ 4 | _ _ _ \n",
      "---------------------\n",
      "3 _ _ | _ _ _ | _ 1 _ \n",
      "_ 4 _ | _ _ _ | _ _ 7 \n",
      "_ _ 7 | _ _ _ | 3 _ _ \n"
     ]
    }
   ],
   "source": [
    "s = Sudoku(\"sudokuHard2.txt\")\n",
    "s.printState()"
   ]
  },
  {
   "cell_type": "code",
   "execution_count": 2,
   "metadata": {},
   "outputs": [],
   "source": [
    "def solveSud(s):\n",
    "    \n",
    "    \n",
    "    con = True\n",
    "    loops = 0\n",
    "    while con == True:\n",
    "\n",
    "        f = True\n",
    "        iS = 0\n",
    "        while f == True:\n",
    "            f = s.checkByObj(s.Squares)\n",
    "            #s.printState()\n",
    "            #print(\"----------------------------------------------------------------------------\")\n",
    "            iS += 1\n",
    "\n",
    "\n",
    "\n",
    "        f = True\n",
    "        iR = 0\n",
    "        while f == True:\n",
    "            f = s.checkByObj(s.Rows)\n",
    "            #s.printState()\n",
    "            #print(\"----------------------------------------------------------------------------\")\n",
    "            iR += 1\n",
    "\n",
    "\n",
    "        f = True\n",
    "        iC = 0\n",
    "        while f == True:\n",
    "            f = s.checkByObj(s.Columns)\n",
    "            #s.printState()\n",
    "            #print(\"----------------------------------------------------------------------------\")\n",
    "            iC += 1\n",
    "\n",
    "\n",
    "        s.checkByNum()\n",
    "        #s.printState()\n",
    "\n",
    "        s.checkUniqueBySquare()\n",
    "        s.checkUniqueByColumn()\n",
    "        s.checkUniqueByRow()\n",
    "\n",
    "        loops += 1\n",
    "\n",
    "        if (iS == 1) and (iR == 1) and (iC == 1):\n",
    "            con = False\n",
    "\n",
    "    #print (f\"Number of loops needed to solve: {loops}\", end = \"\\n\\n\")\n",
    "    #s.printState()\n",
    "    \n",
    "    solved = True\n",
    "    for n in s.Nodes:\n",
    "        if n.Filled == 0:\n",
    "            solved = False\n",
    "            break\n",
    "    \n",
    "    return solved\n",
    "    \n",
    "#solveSud(s)"
   ]
  },
  {
   "cell_type": "code",
   "execution_count": 1892,
   "metadata": {},
   "outputs": [
    {
     "name": "stdout",
     "output_type": "stream",
     "text": [
      "100007090\n",
      "030020008\n",
      "009600500\n",
      "005300900\n",
      "010080002\n",
      "600004000\n",
      "300000010\n",
      "040000007\n",
      "007000300\n",
      "\n"
     ]
    }
   ],
   "source": [
    "stringOut = \"\"\n",
    "\n",
    "cc = 1\n",
    "for r in s.Rows:\n",
    "    rr = 1\n",
    "    for n in r.Nodes:\n",
    "        stringOut += str(n.Filled) \n",
    "    stringOut += \"\\n\"\n",
    "\n",
    "print(stringOut)"
   ]
  },
  {
   "cell_type": "code",
   "execution_count": 21,
   "metadata": {},
   "outputs": [],
   "source": [
    "\n",
    "\n",
    "def CreateS(startingFile = None, startingString = \"\"):\n",
    "    s = Sudoku(startingFile = startingFile, startingString = startingString)\n",
    "    solveSud(s)\n",
    "    stringOut = \"\"\n",
    "\n",
    "    cc = 1\n",
    "    for r in s.Rows:\n",
    "        rr = 1\n",
    "        for n in r.Nodes:\n",
    "            stringOut += str(n.Filled) \n",
    "        stringOut += \"\\n\"\n",
    "    \n",
    "    \n",
    "    # Find node with fewest option\n",
    "\n",
    "    C=9\n",
    "    FinalN = None\n",
    "    for n in s.Nodes:\n",
    "        #count trues\n",
    "        if n.Filled == 0:\n",
    "            c=0\n",
    "            for k, v in zip(n.Nums.keys(), n.Nums.values()):\n",
    "                if v == True:\n",
    "                    c +=1\n",
    "            if c<C:\n",
    "                C = c\n",
    "                FinalN = n\n",
    "\n",
    "    if FinalN == None:\n",
    "        print(\"Solved\")\n",
    "    else:       \n",
    "\n",
    "        K = \"\"\n",
    "        for k, v in zip(FinalN.Nums.keys(), FinalN.Nums.values()):\n",
    "            if v == True:\n",
    "                K += \", \" + str(k)\n",
    "        K = K[1:]\n",
    "\n",
    "\n",
    "        print(FinalN.Nums)\n",
    "        print(FinalN.ID)\n",
    "        print(f\"\\nNode_{FinalN.ID} has {C} branch points for keys: {K}\")\n",
    "    \n",
    "    \n",
    "    return stringOut\n",
    "\n"
   ]
  },
  {
   "cell_type": "code",
   "execution_count": 22,
   "metadata": {},
   "outputs": [
    {
     "name": "stdout",
     "output_type": "stream",
     "text": [
      "Number of loops needed to solve: 2\n",
      "\n",
      "1 _ _ | _ _ 7 | _ 9 _ \n",
      "_ 3 _ | _ 2 _ | _ _ 8 \n",
      "_ _ 9 | 6 _ _ | 5 _ _ \n",
      "---------------------\n",
      "_ _ 5 | 3 _ _ | 9 _ _ \n",
      "_ 1 _ | _ 8 _ | _ _ 2 \n",
      "6 _ _ | _ _ 4 | _ _ _ \n",
      "---------------------\n",
      "3 _ _ | _ _ _ | _ 1 _ \n",
      "_ 4 1 | _ _ _ | _ _ 7 \n",
      "_ _ 7 | _ _ _ | 3 _ _ \n",
      "{1: False, 2: False, 3: False, 4: True, 5: False, 6: True, 7: False, 8: False, 9: False}\n",
      "5\n",
      "\n",
      "Node_5 has 2 branch points for keys:  4, 6\n"
     ]
    }
   ],
   "source": [
    "stringOut = CreateS(startingFile = \"sudokuHard2.txt\")"
   ]
  },
  {
   "cell_type": "code",
   "execution_count": null,
   "metadata": {},
   "outputs": [],
   "source": []
  },
  {
   "cell_type": "code",
   "execution_count": 16,
   "metadata": {},
   "outputs": [
    {
     "name": "stdout",
     "output_type": "stream",
     "text": [
      "Number of loops needed to solve: 1\n",
      "\n",
      "1 _ _ | _ _ 7 | _ 9 _ \n",
      "_ 3 _ | _ 2 _ | _ _ 8 \n",
      "_ _ 9 | 6 _ _ | 5 _ _ \n",
      "---------------------\n",
      "_ _ 5 | 3 _ _ | 9 _ _ \n",
      "_ 1 _ | _ 8 _ | _ _ 2 \n",
      "6 _ _ | _ _ 4 | _ _ _ \n",
      "---------------------\n",
      "3 _ _ | _ _ _ | _ 1 _ \n",
      "_ 4 1 | _ _ _ | _ _ 7 \n",
      "_ _ 7 | _ _ _ | 3 _ _ \n"
     ]
    }
   ],
   "source": [
    "stringOut = CreateS(startingString = stringOut)"
   ]
  },
  {
   "cell_type": "markdown",
   "metadata": {},
   "source": [
    "## Iterative code\n",
    "\n",
    "function (current state, node to try, value to try)\n",
    "\n",
    "run the logic output new state\n",
    "\n",
    "if not solved, check if breached (if so end the function)\n",
    "\n",
    "find node with fewest options and list the options\n",
    "\n",
    "for each options\n",
    "\n",
    "recall this function with the new state, node and option"
   ]
  },
  {
   "cell_type": "code",
   "execution_count": 3,
   "metadata": {},
   "outputs": [],
   "source": [
    "def MainSolver(FileState = None, StringState = None, NodeTry = None, ValueTry = None):\n",
    "    \n",
    "    FlagPrintStatements = False\n",
    "    \n",
    "    \n",
    "    s = Sudoku(startingFile = FileState, startingString = StringState)\n",
    "    \n",
    "    if (NodeTry != None) and (ValueTry != None):\n",
    "        # we're trying a node!\n",
    "        \n",
    "        for n in s.Nodes:\n",
    "            if n.ID == NodeTry:\n",
    "                n.fill(ValueTry)\n",
    "                break\n",
    "    \n",
    "    if FlagPrintStatements:\n",
    "        print(\"--------------\")\n",
    "        s.printState()\n",
    "        print(\"--------------\")\n",
    "    \n",
    "    \n",
    "    \n",
    "    solved = solveSud(s)\n",
    "    \n",
    "    if solved == True:\n",
    "        # We've got to the end\n",
    "        #s.printState()\n",
    "        return True, s\n",
    "    \n",
    "    \n",
    "    # check for breaches\n",
    "\n",
    "    for n in s.Nodes:\n",
    "        #count trues\n",
    "        if n.Filled == 0:\n",
    "            c=0\n",
    "            for k, v in zip(n.Nums.keys(), n.Nums.values()):\n",
    "                if v == True:\n",
    "                    c +=1\n",
    "            if c == 0:\n",
    "                # Error\n",
    "                if FlagPrintStatements:\n",
    "                    print(\"got to an error\\n\\n\", n.ID, n.Nums)\n",
    "                    s.printState()\n",
    "                \n",
    "                return False, False\n",
    "            \n",
    "    \n",
    "    # Find node with fewest option\n",
    "\n",
    "    C=9\n",
    "    FinalN = None\n",
    "    for n in s.Nodes:\n",
    "        #count trues\n",
    "        if n.Filled == 0:\n",
    "            c=0\n",
    "            for k, v in zip(n.Nums.keys(), n.Nums.values()):\n",
    "                if v == True:\n",
    "                    c +=1\n",
    "            if c<C:\n",
    "                C = c\n",
    "                FinalN = n\n",
    "\n",
    "    if FinalN == None:\n",
    "        print(\"Solved\")\n",
    "        raise \"Solved but not caught earlier\"\n",
    "    else:       \n",
    "        \n",
    "        \n",
    "        K = []\n",
    "        for k, v in zip(FinalN.Nums.keys(), FinalN.Nums.values()):\n",
    "            if v == True:\n",
    "                K.append(k)\n",
    "        \n",
    "        \n",
    "        for k in K:\n",
    "            \n",
    "            if FlagPrintStatements:\n",
    "                print(\"made it to a selection point\")\n",
    "                print(f\"From {K}, selecting {k}\")\n",
    "                print(FinalN.ID)\n",
    "            \n",
    "            print(\"Making a guess\")\n",
    "            \n",
    "            p, q = MainSolver(None, s.StringOut(), NodeTry = FinalN.ID, ValueTry = k)\n",
    "            \n",
    "            if p == True:\n",
    "                # Solved\n",
    "                return True, q\n",
    "            \n",
    "\n",
    "        return False, False\n",
    "    "
   ]
  },
  {
   "cell_type": "code",
   "execution_count": 12,
   "metadata": {
    "scrolled": false
   },
   "outputs": [
    {
     "name": "stdout",
     "output_type": "stream",
     "text": [
      "1 _ _ | _ _ 7 | _ 9 _ \n",
      "_ 3 _ | _ 2 _ | _ _ 8 \n",
      "_ _ 9 | 6 _ _ | 5 _ _ \n",
      "---------------------\n",
      "_ _ 5 | 3 _ _ | 9 _ _ \n",
      "_ 1 _ | _ 8 _ | _ _ 2 \n",
      "6 _ _ | _ _ 4 | _ _ _ \n",
      "---------------------\n",
      "3 _ _ | _ _ _ | _ 1 _ \n",
      "_ 4 _ | _ _ _ | _ _ 7 \n",
      "_ _ 7 | _ _ _ | 3 _ _ \n",
      "------------------------------------------\n",
      "Making a guess\n",
      "Making a guess\n",
      "Making a guess\n",
      "Making a guess\n",
      "Making a guess\n",
      "Making a guess\n",
      "Making a guess\n",
      "Making a guess\n",
      "Making a guess\n",
      "Making a guess\n",
      "Making a guess\n",
      "Making a guess\n",
      "Making a guess\n",
      "Making a guess\n",
      "Making a guess\n",
      "Making a guess\n",
      "Making a guess\n",
      "\n",
      "\n",
      " We made it to the end!\n",
      "\n",
      "1 6 2 | 8 5 7 | 4 9 3 \n",
      "5 3 4 | 1 2 9 | 6 7 8 \n",
      "7 8 9 | 6 4 3 | 5 2 1 \n",
      "---------------------\n",
      "4 7 5 | 3 1 2 | 9 8 6 \n",
      "9 1 3 | 5 8 6 | 7 4 2 \n",
      "6 2 8 | 7 9 4 | 1 3 5 \n",
      "---------------------\n",
      "3 5 6 | 4 7 8 | 2 1 9 \n",
      "2 4 1 | 9 3 5 | 8 6 7 \n",
      "8 9 7 | 2 6 1 | 3 5 4 \n"
     ]
    }
   ],
   "source": [
    "fileis = \"sudokuHard2.txt\"\n",
    "\n",
    "Q = Sudoku(fileis)\n",
    "Q.printState()\n",
    "print(\"------------------------------------------\")\n",
    "\n",
    "p, q = MainSolver(fileis, None)\n",
    "\n",
    "print(\"\\n\\n We made it to the end!\\n\")\n",
    "q.printState()"
   ]
  },
  {
   "cell_type": "code",
   "execution_count": null,
   "metadata": {},
   "outputs": [],
   "source": []
  },
  {
   "cell_type": "markdown",
   "metadata": {},
   "source": [
    "\n",
    "## Code to start creating points for trial and error"
   ]
  },
  {
   "cell_type": "code",
   "execution_count": 1823,
   "metadata": {},
   "outputs": [
    {
     "name": "stdout",
     "output_type": "stream",
     "text": [
      "{1: False, 2: False, 3: False, 4: True, 5: False, 6: True, 7: False, 8: False, 9: False}\n",
      "5\n",
      "\n",
      "Node_5 has 2 branch points for keys:  4, 6\n"
     ]
    }
   ],
   "source": [
    "# Find node with fewest option\n",
    "\n",
    "C=9\n",
    "FinalN = None\n",
    "for n in s.Nodes:\n",
    "    #count trues\n",
    "    if n.Filled == 0:\n",
    "        c=0\n",
    "        for k, v in zip(n.Nums.keys(), n.Nums.values()):\n",
    "            if v == True:\n",
    "                c +=1\n",
    "        if c<C:\n",
    "            C = c\n",
    "            FinalN = n\n",
    "\n",
    "if FinalN == None:\n",
    "    print(\"Solved\")\n",
    "else:       \n",
    "    \n",
    "    K = \"\"\n",
    "    for k, v in zip(FinalN.Nums.keys(), FinalN.Nums.values()):\n",
    "        if v == True:\n",
    "            K += \", \" + str(k)\n",
    "    K = K[1:]\n",
    "    \n",
    "    \n",
    "    print(FinalN.Nums)\n",
    "    print(FinalN.ID)\n",
    "    print(f\"\\nNode_{FinalN.ID} has {C} branch point{l(R)} for keys: {K}\")"
   ]
  },
  {
   "cell_type": "code",
   "execution_count": 1807,
   "metadata": {},
   "outputs": [],
   "source": [
    "# check for breaches\n",
    "\n",
    "for n in s.Nodes:\n",
    "    #count trues\n",
    "    if n.Filled == 0:\n",
    "        c=0\n",
    "        for k, v in zip(n.Nums.keys(), n.Nums.values()):\n",
    "            if v == True:\n",
    "                c +=1\n",
    "        if c == 0:\n",
    "            print(\"Breached\")\n",
    "            print(n.Nums)"
   ]
  },
  {
   "cell_type": "code",
   "execution_count": 1808,
   "metadata": {},
   "outputs": [
    {
     "name": "stdout",
     "output_type": "stream",
     "text": [
      "Row_0 has 2 branch points for key 3\n"
     ]
    }
   ],
   "source": [
    "l = lambda x: \"s\" if x != 1 else \"\"\n",
    "\n",
    "C = 9\n",
    "for r in s.Rows:\n",
    "    for k, v in zip(r.Numfilled.keys(), r.Numfilled.values()):\n",
    "        if v == False:\n",
    "            c = 0\n",
    "            for n in r.Nodes:\n",
    "                if n.Nums[k] == True:\n",
    "                    c += 1\n",
    "            if c<C: \n",
    "                C = c\n",
    "                K = k\n",
    "                R = r.ID\n",
    "                \n",
    "print(f\"Row_{R} has {C} branch point{l(R)} for key {K}\")"
   ]
  },
  {
   "cell_type": "code",
   "execution_count": 1809,
   "metadata": {},
   "outputs": [
    {
     "name": "stdout",
     "output_type": "stream",
     "text": [
      "Column_2 has 2 branch points for key 3\n"
     ]
    }
   ],
   "source": [
    "l = lambda x: \"s\" if x != 1 else \"\"\n",
    "\n",
    "C = 9\n",
    "for r in s.Columns:\n",
    "    for k, v in zip(r.Numfilled.keys(), r.Numfilled.values()):\n",
    "        if v == False:\n",
    "            c = 0\n",
    "            for n in r.Nodes:\n",
    "                if n.Nums[k] == True:\n",
    "                    c += 1\n",
    "            if c<C: \n",
    "                C = c\n",
    "                K = k\n",
    "                R = r.ID\n",
    "                \n",
    "print(f\"Column_{R} has {C} branch point{l(R)} for key {K}\")"
   ]
  },
  {
   "cell_type": "code",
   "execution_count": 1810,
   "metadata": {},
   "outputs": [
    {
     "name": "stdout",
     "output_type": "stream",
     "text": [
      "Square_0 has 2 branch points for key 5\n"
     ]
    }
   ],
   "source": [
    "l = lambda x: \"s\" if x != 1 else \"\"\n",
    "\n",
    "C = 9\n",
    "for r in s.Squares:\n",
    "    for k, v in zip(r.Numfilled.keys(), r.Numfilled.values()):\n",
    "        if v == False:\n",
    "            c = 0\n",
    "            for n in r.Nodes:\n",
    "                if n.Nums[k] == True:\n",
    "                    c += 1\n",
    "            if c<C: \n",
    "                C = c\n",
    "                K = k\n",
    "                R = r.ID\n",
    "                \n",
    "print(f\"Square_{R} has {C} branch point{l(R)} for key {K}\")"
   ]
  },
  {
   "cell_type": "code",
   "execution_count": 1857,
   "metadata": {},
   "outputs": [
    {
     "name": "stdout",
     "output_type": "stream",
     "text": [
      "Row: 1, Column: 2\n",
      "1 _ _ | _ _ 7 | _ 9 _ \n",
      "_ 3 _ | _ 2 _ | _ _ 8 \n",
      "_ _ 9 | 6 _ _ | 5 _ _ \n",
      "---------------------\n",
      "_ _ 5 | 3 _ _ | 9 _ _ \n",
      "_ 1 _ | _ 8 _ | _ _ 2 \n",
      "6 _ _ | _ _ 4 | _ _ _ \n",
      "---------------------\n",
      "3 _ _ | _ _ _ | _ 1 _ \n",
      "_ 4 1 | _ _ _ | _ _ 7 \n",
      "_ _ 7 | _ _ _ | 3 _ _ \n",
      "\n",
      "filling\n",
      "\n",
      "-----------------------------------------------\n",
      "1 _ _ | _ _ 7 | _ 9 _ \n",
      "_ 3 _ | _ 2 _ | _ _ 8 \n",
      "_ _ 9 | 6 _ _ | 5 _ _ \n",
      "---------------------\n",
      "_ _ 5 | 3 _ _ | 9 _ _ \n",
      "_ 1 _ | _ 8 _ | _ _ 2 \n",
      "6 _ _ | _ _ 4 | _ _ _ \n",
      "---------------------\n",
      "3 _ _ | _ _ _ | _ 1 _ \n",
      "_ 4 1 | _ _ _ | _ _ 7 \n",
      "_ _ 7 | _ _ _ | 3 _ _ \n",
      "\n",
      "filling\n",
      "\n"
     ]
    }
   ],
   "source": [
    "for n in s.Nodes:\n",
    "    if n.ID == 5:\n",
    "        print(f\"Row: {n.rowObj.ID}, Column: {n.columnObj.ID}\")\n",
    "        s.printState()\n",
    "        n.fill(4)\n",
    "        print(\"-----------------------------------------------\")\n",
    "        s.printState()"
   ]
  },
  {
   "cell_type": "code",
   "execution_count": null,
   "metadata": {},
   "outputs": [],
   "source": []
  },
  {
   "cell_type": "code",
   "execution_count": null,
   "metadata": {},
   "outputs": [],
   "source": []
  },
  {
   "cell_type": "markdown",
   "metadata": {},
   "source": [
    "## Other stuff"
   ]
  },
  {
   "cell_type": "code",
   "execution_count": 1700,
   "metadata": {},
   "outputs": [],
   "source": [
    "s = Sudoku(1)"
   ]
  },
  {
   "cell_type": "code",
   "execution_count": 1701,
   "metadata": {},
   "outputs": [],
   "source": [
    "#s.setup()"
   ]
  },
  {
   "cell_type": "code",
   "execution_count": 1702,
   "metadata": {
    "collapsed": true
   },
   "outputs": [
    {
     "data": {
      "text/plain": [
       "[[0, 0, 0],\n",
       " [0, 1, 0],\n",
       " [0, 2, 0],\n",
       " [1, 0, 0],\n",
       " [1, 1, 0],\n",
       " [1, 2, 0],\n",
       " [2, 0, 0],\n",
       " [2, 1, 0],\n",
       " [2, 2, 0],\n",
       " [0, 3, 1],\n",
       " [0, 4, 1],\n",
       " [0, 5, 1],\n",
       " [1, 3, 1],\n",
       " [1, 4, 1],\n",
       " [1, 5, 1],\n",
       " [2, 3, 1],\n",
       " [2, 4, 1],\n",
       " [2, 5, 1],\n",
       " [0, 6, 2],\n",
       " [0, 7, 2],\n",
       " [0, 8, 2],\n",
       " [1, 6, 2],\n",
       " [1, 7, 2],\n",
       " [1, 8, 2],\n",
       " [2, 6, 2],\n",
       " [2, 7, 2],\n",
       " [2, 8, 2],\n",
       " [3, 0, 3],\n",
       " [3, 1, 3],\n",
       " [3, 2, 3],\n",
       " [4, 0, 3],\n",
       " [4, 1, 3],\n",
       " [4, 2, 3],\n",
       " [5, 0, 3],\n",
       " [5, 1, 3],\n",
       " [5, 2, 3],\n",
       " [3, 3, 4],\n",
       " [3, 4, 4],\n",
       " [3, 5, 4],\n",
       " [4, 3, 4],\n",
       " [4, 4, 4],\n",
       " [4, 5, 4],\n",
       " [5, 3, 4],\n",
       " [5, 4, 4],\n",
       " [5, 5, 4],\n",
       " [3, 6, 5],\n",
       " [3, 7, 5],\n",
       " [3, 8, 5],\n",
       " [4, 6, 5],\n",
       " [4, 7, 5],\n",
       " [4, 8, 5],\n",
       " [5, 6, 5],\n",
       " [5, 7, 5],\n",
       " [5, 8, 5],\n",
       " [6, 0, 6],\n",
       " [6, 1, 6],\n",
       " [6, 2, 6],\n",
       " [7, 0, 6],\n",
       " [7, 1, 6],\n",
       " [7, 2, 6],\n",
       " [8, 0, 6],\n",
       " [8, 1, 6],\n",
       " [8, 2, 6],\n",
       " [6, 3, 7],\n",
       " [6, 4, 7],\n",
       " [6, 5, 7],\n",
       " [7, 3, 7],\n",
       " [7, 4, 7],\n",
       " [7, 5, 7],\n",
       " [8, 3, 7],\n",
       " [8, 4, 7],\n",
       " [8, 5, 7],\n",
       " [6, 6, 8],\n",
       " [6, 7, 8],\n",
       " [6, 8, 8],\n",
       " [7, 6, 8],\n",
       " [7, 7, 8],\n",
       " [7, 8, 8],\n",
       " [8, 6, 8],\n",
       " [8, 7, 8],\n",
       " [8, 8, 8]]"
      ]
     },
     "execution_count": 1702,
     "metadata": {},
     "output_type": "execute_result"
    }
   ],
   "source": [
    "test = []\n",
    "for n in s.Nodes:\n",
    "    test.append([n.rowObj.ID, n.columnObj.ID, n.squareObj.ID])\n",
    "test"
   ]
  },
  {
   "cell_type": "code",
   "execution_count": 1703,
   "metadata": {},
   "outputs": [
    {
     "data": {
      "text/plain": [
       "81"
      ]
     },
     "execution_count": 1703,
     "metadata": {},
     "output_type": "execute_result"
    }
   ],
   "source": [
    "len(test)"
   ]
  },
  {
   "cell_type": "code",
   "execution_count": 1704,
   "metadata": {},
   "outputs": [
    {
     "name": "stdout",
     "output_type": "stream",
     "text": [
      "9\n",
      "9\n",
      "9\n"
     ]
    }
   ],
   "source": [
    "print(len(s.Columns))\n",
    "print(len(s.Rows))\n",
    "print(len(s.Squares))"
   ]
  },
  {
   "cell_type": "code",
   "execution_count": 1705,
   "metadata": {
    "scrolled": true
   },
   "outputs": [
    {
     "name": "stdout",
     "output_type": "stream",
     "text": [
      "3\n"
     ]
    }
   ],
   "source": [
    "print(len(s.Squares[0].Columns))"
   ]
  },
  {
   "cell_type": "code",
   "execution_count": 1706,
   "metadata": {},
   "outputs": [
    {
     "name": "stdout",
     "output_type": "stream",
     "text": [
      "0\n",
      "1\n",
      "2\n"
     ]
    }
   ],
   "source": [
    "for c in s.Squares[0].Columns:\n",
    "    print(c.ID)"
   ]
  },
  {
   "cell_type": "code",
   "execution_count": 1707,
   "metadata": {},
   "outputs": [],
   "source": [
    "#s.Rows[0].Nodes[0].fill(5)"
   ]
  },
  {
   "cell_type": "code",
   "execution_count": 1708,
   "metadata": {},
   "outputs": [
    {
     "name": "stdout",
     "output_type": "stream",
     "text": [
      "{1: True, 2: True, 3: True, 4: True, 5: True, 6: True, 7: True, 8: True, 9: True}\n",
      "{1: True, 2: True, 3: True, 4: True, 5: True, 6: True, 7: True, 8: True, 9: True}\n",
      "{1: True, 2: True, 3: True, 4: True, 5: True, 6: True, 7: True, 8: True, 9: True}\n",
      "{1: True, 2: True, 3: True, 4: True, 5: True, 6: True, 7: True, 8: True, 9: True}\n",
      "{1: True, 2: True, 3: True, 4: True, 5: True, 6: True, 7: True, 8: True, 9: True}\n",
      "{1: True, 2: True, 3: True, 4: True, 5: True, 6: True, 7: True, 8: True, 9: True}\n",
      "{1: True, 2: True, 3: True, 4: True, 5: True, 6: True, 7: True, 8: True, 9: True}\n",
      "{1: True, 2: True, 3: True, 4: True, 5: True, 6: True, 7: True, 8: True, 9: True}\n",
      "{1: True, 2: True, 3: True, 4: True, 5: True, 6: True, 7: True, 8: True, 9: True}\n"
     ]
    }
   ],
   "source": [
    "for n in s.Rows[0].Nodes:\n",
    "    print(n.Nums)"
   ]
  },
  {
   "cell_type": "code",
   "execution_count": 1709,
   "metadata": {
    "collapsed": true
   },
   "outputs": [
    {
     "name": "stdout",
     "output_type": "stream",
     "text": [
      "0 0 0 0 0 0 0 0 0 \n",
      "0 0 0 0 0 0 0 0 0 \n",
      "0 0 0 0 0 0 0 0 0 \n",
      "0 0 0 0 0 0 0 0 0 \n",
      "0 0 0 0 0 0 0 0 0 \n",
      "0 0 0 0 0 0 0 0 0 \n",
      "0 0 0 0 0 0 0 0 0 \n",
      "0 0 0 0 0 0 0 0 0 \n",
      "0 0 0 0 0 0 0 0 0 \n"
     ]
    }
   ],
   "source": [
    "for r in s.Rows:\n",
    "    for n in r.Nodes:\n",
    "        print(n.Filled, end = \" \")\n",
    "    print(\"\")"
   ]
  },
  {
   "cell_type": "code",
   "execution_count": 1710,
   "metadata": {
    "collapsed": true
   },
   "outputs": [
    {
     "data": {
      "text/plain": [
       "'\\ncc = 1\\nfor r in s.Rows:\\n    rr = 1\\n    for n in r.Nodes:\\n        print(n.Filled, end = \" \")\\n        if (rr % 3 == 0) and (rr < 7):\\n            print(\"|\", end = \" \")\\n        rr += 1\\n    print(\"\")\\n    if (cc  % 3 == 0) and (cc < 7):\\n        print (\"---------------------\")\\n    cc += 1'"
      ]
     },
     "execution_count": 1710,
     "metadata": {},
     "output_type": "execute_result"
    }
   ],
   "source": [
    "'''\n",
    "cc = 1\n",
    "for r in s.Rows:\n",
    "    rr = 1\n",
    "    for n in r.Nodes:\n",
    "        print(n.Filled, end = \" \")\n",
    "        if (rr % 3 == 0) and (rr < 7):\n",
    "            print(\"|\", end = \" \")\n",
    "        rr += 1\n",
    "    print(\"\")\n",
    "    if (cc  % 3 == 0) and (cc < 7):\n",
    "        print (\"---------------------\")\n",
    "    cc += 1'''"
   ]
  },
  {
   "cell_type": "code",
   "execution_count": 1711,
   "metadata": {
    "collapsed": true
   },
   "outputs": [
    {
     "name": "stdout",
     "output_type": "stream",
     "text": [
      "7 4 0 0 3 0 0 1 0 \n",
      " \n",
      "0 1 9 0 6 8 5 0 2 \n",
      " \n",
      "0 0 0 0 0 4 3 0 0 \n",
      " \n",
      "0 5 6 3 7 0 0 0 1 \n",
      " \n",
      "0 0 1 8 0 0 0 9 5 \n",
      " \n",
      "0 9 0 0 2 0 6 0 0 \n",
      " \n",
      "1 0 3 4 0 7 2 0 0 \n",
      " \n",
      "5 0 0 2 0 0 0 0 8 \n",
      " \n",
      "0 8 0 0 0 1 4 7 0 \n"
     ]
    }
   ],
   "source": [
    "with open(\"sudoku1.txt\") as f:\n",
    "    for r in f:\n",
    "        for c in r:\n",
    "            print(c, end = \" \")\n",
    "        print(\"\")      "
   ]
  },
  {
   "cell_type": "code",
   "execution_count": 1712,
   "metadata": {},
   "outputs": [],
   "source": [
    "with open(\"sudokuHard2.txt\") as f:\n",
    "    g= zip(f, s.Rows)\n",
    "    for gg in g:\n",
    "        h = zip(gg[0],gg[1].Nodes)\n",
    "        for hh in h:\n",
    "            if int(hh[0]) != 0:\n",
    "                hh[1].fill(int(hh[0]))\n",
    "    \n",
    "    \n",
    "            "
   ]
  },
  {
   "cell_type": "code",
   "execution_count": 1713,
   "metadata": {},
   "outputs": [
    {
     "name": "stdout",
     "output_type": "stream",
     "text": [
      "1 _ _ | _ _ 7 | _ 9 _ \n",
      "_ 3 _ | _ 2 _ | _ _ 8 \n",
      "_ _ 9 | 6 _ _ | 5 _ _ \n",
      "---------------------\n",
      "_ _ 5 | 3 _ _ | 9 _ _ \n",
      "_ 1 _ | _ 8 _ | _ _ 2 \n",
      "6 _ _ | _ _ 4 | _ _ _ \n",
      "---------------------\n",
      "3 _ _ | _ _ _ | _ 1 _ \n",
      "_ 4 _ | _ _ _ | _ _ 7 \n",
      "_ _ 7 | _ _ _ | 3 _ _ \n"
     ]
    }
   ],
   "source": [
    "s.printState()"
   ]
  },
  {
   "cell_type": "code",
   "execution_count": 1714,
   "metadata": {},
   "outputs": [
    {
     "name": "stdout",
     "output_type": "stream",
     "text": [
      "{1: True, 2: False, 3: False, 4: False, 5: False, 6: False, 7: False, 8: False, 9: False}\n",
      "{1: False, 2: True, 3: False, 4: False, 5: True, 6: True, 7: False, 8: True, 9: False}\n",
      "{1: False, 2: True, 3: False, 4: True, 5: False, 6: True, 7: False, 8: True, 9: False}\n",
      "{1: False, 2: False, 3: False, 4: True, 5: True, 6: False, 7: False, 8: True, 9: False}\n",
      "{1: False, 2: False, 3: True, 4: True, 5: True, 6: False, 7: False, 8: False, 9: False}\n",
      "{1: False, 2: False, 3: False, 4: False, 5: False, 6: False, 7: True, 8: False, 9: False}\n",
      "{1: False, 2: True, 3: False, 4: True, 5: False, 6: True, 7: False, 8: False, 9: False}\n",
      "{1: False, 2: False, 3: False, 4: False, 5: False, 6: False, 7: False, 8: False, 9: True}\n",
      "{1: False, 2: False, 3: True, 4: True, 5: False, 6: True, 7: False, 8: False, 9: False}\n",
      "\n",
      "1\n",
      "2\n",
      "3\n",
      "4\n",
      "1\n",
      "2\n",
      "3\n",
      "4\n",
      "1\n",
      "2\n",
      "3\n",
      "1\n",
      "2\n",
      "1\n",
      "2\n",
      "3\n",
      "4\n",
      "1\n",
      "2\n",
      "3\n"
     ]
    }
   ],
   "source": [
    "for n in s.Rows[0].Nodes:\n",
    "    print(n.Nums)\n",
    "#s.checkByNum()\n",
    "\n",
    "print(\"\")\n",
    "\n",
    "def checkByNum(s):\n",
    "    for n in s.Nodes:\n",
    "        if n.Filled == 0:\n",
    "            jj = 0\n",
    "            for j in range(1, 10):\n",
    "                if n.Nums[j] == True:\n",
    "                    jj += 1\n",
    "                    if n.squareObj.ID == 0:\n",
    "                        print(jj)\n",
    "                    \n",
    "            if jj == 1:\n",
    "                print(n.Nums)\n",
    "                print(n)\n",
    "                \n",
    "                for j in range(1, 10):\n",
    "                    if n.Nums[j] == True:\n",
    "                        n.fill(j)\n",
    "                \n",
    "checkByNum(s)"
   ]
  },
  {
   "cell_type": "code",
   "execution_count": 1715,
   "metadata": {},
   "outputs": [
    {
     "name": "stdout",
     "output_type": "stream",
     "text": [
      "1 _ _ | _ _ 7 | _ 9 _ \n",
      "_ 3 _ | _ 2 _ | _ _ 8 \n",
      "_ _ 9 | 6 _ _ | 5 _ _ \n",
      "---------------------\n",
      "_ _ 5 | 3 _ _ | 9 _ _ \n",
      "_ 1 _ | _ 8 _ | _ _ 2 \n",
      "6 _ _ | _ _ 4 | _ _ _ \n",
      "---------------------\n",
      "3 _ _ | _ _ _ | _ 1 _ \n",
      "_ 4 _ | _ _ _ | _ _ 7 \n",
      "_ _ 7 | _ _ _ | 3 _ _ \n"
     ]
    }
   ],
   "source": [
    "s.printState()"
   ]
  },
  {
   "cell_type": "code",
   "execution_count": 1716,
   "metadata": {},
   "outputs": [
    {
     "name": "stdout",
     "output_type": "stream",
     "text": [
      "{1: True, 2: False, 3: False, 4: False, 5: False, 6: False, 7: False, 8: False, 9: False}\n",
      "{1: False, 2: True, 3: False, 4: False, 5: True, 6: True, 7: False, 8: True, 9: False}\n",
      "{1: False, 2: True, 3: False, 4: True, 5: False, 6: True, 7: False, 8: True, 9: False}\n",
      "{1: False, 2: False, 3: False, 4: True, 5: True, 6: False, 7: False, 8: True, 9: False}\n",
      "{1: False, 2: False, 3: True, 4: True, 5: True, 6: False, 7: False, 8: False, 9: False}\n",
      "{1: False, 2: False, 3: False, 4: False, 5: False, 6: False, 7: True, 8: False, 9: False}\n",
      "{1: False, 2: True, 3: False, 4: True, 5: False, 6: True, 7: False, 8: False, 9: False}\n",
      "{1: False, 2: False, 3: False, 4: False, 5: False, 6: False, 7: False, 8: False, 9: True}\n",
      "{1: False, 2: False, 3: True, 4: True, 5: False, 6: True, 7: False, 8: False, 9: False}\n"
     ]
    }
   ],
   "source": [
    "for n in s.Rows[0].Nodes:\n",
    "    print(n.Nums)"
   ]
  },
  {
   "cell_type": "code",
   "execution_count": 1749,
   "metadata": {},
   "outputs": [
    {
     "name": "stdout",
     "output_type": "stream",
     "text": [
      "1 _ 6 | 8 5 7 | 2 9 3 \n",
      "5 3 4 | 1 2 9 | 7 6 8 \n",
      "2 8 9 | 6 4 3 | 5 _ 1 \n",
      "---------------------\n",
      "4 2 5 | 3 1 _ | 9 8 6 \n",
      "7 1 3 | 9 8 6 | 4 _ 2 \n",
      "6 9 8 | 2 7 4 | 1 3 5 \n",
      "---------------------\n",
      "3 5 2 | 7 6 _ | 8 1 9 \n",
      "9 4 1 | _ 3 2 | 6 5 7 \n",
      "8 6 7 | 5 9 1 | 3 2 4 \n",
      "----------------------------------------------------------------------------\n"
     ]
    }
   ],
   "source": [
    "f = True\n",
    "i = 0\n",
    "while f == True:\n",
    "    f = s.checkByObj(s.Squares)\n",
    "    s.printState()\n",
    "    print(\"----------------------------------------------------------------------------\")\n",
    "    i += 1"
   ]
  },
  {
   "cell_type": "code",
   "execution_count": 1750,
   "metadata": {},
   "outputs": [
    {
     "name": "stdout",
     "output_type": "stream",
     "text": [
      "1 _ 6 | 8 5 7 | 2 9 3 \n",
      "5 3 4 | 1 2 9 | 7 6 8 \n",
      "2 8 9 | 6 4 3 | 5 _ 1 \n",
      "---------------------\n",
      "4 2 5 | 3 1 _ | 9 8 6 \n",
      "7 1 3 | 9 8 6 | 4 _ 2 \n",
      "6 9 8 | 2 7 4 | 1 3 5 \n",
      "---------------------\n",
      "3 5 2 | 7 6 _ | 8 1 9 \n",
      "9 4 1 | _ 3 2 | 6 5 7 \n",
      "8 6 7 | 5 9 1 | 3 2 4 \n",
      "----------------------------------------------------------------------------\n"
     ]
    }
   ],
   "source": [
    "f = True\n",
    "i = 0\n",
    "while f == True:\n",
    "    f = s.checkByObj(s.Rows)\n",
    "    s.printState()\n",
    "    print(\"----------------------------------------------------------------------------\")\n",
    "    i += 1"
   ]
  },
  {
   "cell_type": "code",
   "execution_count": 1752,
   "metadata": {},
   "outputs": [
    {
     "name": "stdout",
     "output_type": "stream",
     "text": [
      "1 _ 6 | 8 5 7 | 2 9 3 \n",
      "5 3 4 | 1 2 9 | 7 6 8 \n",
      "2 8 9 | 6 4 3 | 5 _ 1 \n",
      "---------------------\n",
      "4 2 5 | 3 1 _ | 9 8 6 \n",
      "7 1 3 | 9 8 6 | 4 _ 2 \n",
      "6 9 8 | 2 7 4 | 1 3 5 \n",
      "---------------------\n",
      "3 5 2 | 7 6 _ | 8 1 9 \n",
      "9 4 1 | _ 3 2 | 6 5 7 \n",
      "8 6 7 | 5 9 1 | 3 2 4 \n"
     ]
    }
   ],
   "source": [
    "s.checkByNum()\n",
    "s.printState()"
   ]
  },
  {
   "cell_type": "code",
   "execution_count": 1751,
   "metadata": {},
   "outputs": [
    {
     "name": "stdout",
     "output_type": "stream",
     "text": [
      "1 _ 6 | 8 5 7 | 2 9 3 \n",
      "5 3 4 | 1 2 9 | 7 6 8 \n",
      "2 8 9 | 6 4 3 | 5 _ 1 \n",
      "---------------------\n",
      "4 2 5 | 3 1 _ | 9 8 6 \n",
      "7 1 3 | 9 8 6 | 4 _ 2 \n",
      "6 9 8 | 2 7 4 | 1 3 5 \n",
      "---------------------\n",
      "3 5 2 | 7 6 _ | 8 1 9 \n",
      "9 4 1 | _ 3 2 | 6 5 7 \n",
      "8 6 7 | 5 9 1 | 3 2 4 \n",
      "----------------------------------------------------------------------------\n"
     ]
    }
   ],
   "source": [
    "f = True\n",
    "i = 0\n",
    "while f == True:\n",
    "    f = s.checkByObj(s.Columns)\n",
    "    s.printState()\n",
    "    print(\"----------------------------------------------------------------------------\")\n",
    "    i += 1s.checkByNum()\n",
    "s.printState()\n",
    "\n",
    "s.checkUniqueBySquare()\n",
    "s.checkUniqueByColumn()\n",
    "s.checkUniqueByRow()"
   ]
  },
  {
   "cell_type": "code",
   "execution_count": 1752,
   "metadata": {},
   "outputs": [
    {
     "name": "stdout",
     "output_type": "stream",
     "text": [
      "1 _ 6 | 8 5 7 | 2 9 3 \n",
      "5 3 4 | 1 2 9 | 7 6 8 \n",
      "2 8 9 | 6 4 3 | 5 _ 1 \n",
      "---------------------\n",
      "4 2 5 | 3 1 _ | 9 8 6 \n",
      "7 1 3 | 9 8 6 | 4 _ 2 \n",
      "6 9 8 | 2 7 4 | 1 3 5 \n",
      "---------------------\n",
      "3 5 2 | 7 6 _ | 8 1 9 \n",
      "9 4 1 | _ 3 2 | 6 5 7 \n",
      "8 6 7 | 5 9 1 | 3 2 4 \n"
     ]
    }
   ],
   "source": [
    "s.checkByNum()\n",
    "s.printState()"
   ]
  },
  {
   "cell_type": "code",
   "execution_count": 1753,
   "metadata": {},
   "outputs": [],
   "source": [
    "s.checkUniqueBySquare()\n",
    "s.checkUniqueByColumn()\n",
    "s.checkUniqueByRow()"
   ]
  },
  {
   "cell_type": "code",
   "execution_count": 1737,
   "metadata": {},
   "outputs": [
    {
     "name": "stdout",
     "output_type": "stream",
     "text": [
      "{1: False, 2: False, 3: False, 4: False, 5: True, 6: True, 7: False, 8: False, 9: True}\n",
      "70\n"
     ]
    }
   ],
   "source": [
    "C=9\n",
    "for n in s.Nodes:\n",
    "    #count trues\n",
    "    if n.Filled == 0:\n",
    "        c=0\n",
    "        for k, v in zip(n.Nums.keys(), n.Nums.values()):\n",
    "            if v == True:\n",
    "                c +=1\n",
    "        if c<C:\n",
    "            FinalN = n\n",
    "\n",
    "print(FinalN.Nums)\n",
    "print(FinalN.ID)"
   ]
  },
  {
   "cell_type": "code",
   "execution_count": 1723,
   "metadata": {},
   "outputs": [],
   "source": [
    "for n in s.Nodes:\n",
    "    if n.ID == 80:\n",
    "        n.fill(4)\n",
    "        break"
   ]
  },
  {
   "cell_type": "code",
   "execution_count": 1724,
   "metadata": {},
   "outputs": [],
   "source": [
    "for n in s.Nodes:\n",
    "    if n.ID == 79:\n",
    "        n.fill(2)\n",
    "        break"
   ]
  },
  {
   "cell_type": "code",
   "execution_count": 1725,
   "metadata": {},
   "outputs": [],
   "source": [
    "for n in s.Nodes:\n",
    "    if n.ID == 75:\n",
    "        n.fill(6)\n",
    "        break"
   ]
  },
  {
   "cell_type": "code",
   "execution_count": 1726,
   "metadata": {},
   "outputs": [],
   "source": [
    "for n in s.Nodes:\n",
    "    if n.ID == 71:\n",
    "        n.fill(1)\n",
    "        break"
   ]
  },
  {
   "cell_type": "code",
   "execution_count": null,
   "metadata": {},
   "outputs": [],
   "source": []
  },
  {
   "cell_type": "code",
   "execution_count": 1738,
   "metadata": {},
   "outputs": [],
   "source": [
    "for n in s.Nodes:\n",
    "    if n.ID == 70:\n",
    "        n.fill(9)\n",
    "        break"
   ]
  },
  {
   "cell_type": "code",
   "execution_count": 1754,
   "metadata": {},
   "outputs": [
    {
     "name": "stdout",
     "output_type": "stream",
     "text": [
      "{1: False, 2: False, 3: False, 4: False, 5: False, 6: False, 7: False, 8: False, 9: False}\n",
      "{1: False, 2: False, 3: False, 4: False, 5: False, 6: False, 7: False, 8: False, 9: False}\n",
      "{1: False, 2: False, 3: False, 4: False, 5: False, 6: False, 7: False, 8: False, 9: False}\n",
      "{1: False, 2: False, 3: False, 4: False, 5: False, 6: False, 7: False, 8: False, 9: False}\n",
      "{1: False, 2: False, 3: False, 4: False, 5: False, 6: False, 7: False, 8: False, 9: False}\n",
      "{1: False, 2: False, 3: False, 4: False, 5: False, 6: False, 7: False, 8: False, 9: False}\n"
     ]
    }
   ],
   "source": [
    "for n in s.Nodes:\n",
    "    #count trues\n",
    "    if n.Filled == 0:\n",
    "        c=0\n",
    "        for k, v in zip(n.Nums.keys(), n.Nums.values()):\n",
    "            if v == True:\n",
    "                c +=1\n",
    "        if c == 0:\n",
    "            print(n.Nums)"
   ]
  },
  {
   "cell_type": "code",
   "execution_count": 1441,
   "metadata": {},
   "outputs": [],
   "source": []
  },
  {
   "cell_type": "code",
   "execution_count": null,
   "metadata": {},
   "outputs": [],
   "source": []
  },
  {
   "cell_type": "code",
   "execution_count": null,
   "metadata": {},
   "outputs": [],
   "source": []
  },
  {
   "cell_type": "code",
   "execution_count": null,
   "metadata": {},
   "outputs": [],
   "source": []
  },
  {
   "cell_type": "code",
   "execution_count": null,
   "metadata": {},
   "outputs": [],
   "source": []
  },
  {
   "cell_type": "code",
   "execution_count": null,
   "metadata": {},
   "outputs": [],
   "source": []
  },
  {
   "cell_type": "code",
   "execution_count": null,
   "metadata": {},
   "outputs": [],
   "source": []
  },
  {
   "cell_type": "code",
   "execution_count": null,
   "metadata": {},
   "outputs": [],
   "source": []
  },
  {
   "cell_type": "code",
   "execution_count": null,
   "metadata": {},
   "outputs": [],
   "source": []
  },
  {
   "cell_type": "code",
   "execution_count": 1353,
   "metadata": {},
   "outputs": [],
   "source": [
    "FinalN.fill(2)"
   ]
  },
  {
   "cell_type": "code",
   "execution_count": 1354,
   "metadata": {},
   "outputs": [],
   "source": [
    "for n in s.Nodes:\n",
    "    #count trues\n",
    "    if n.Filled == 0:\n",
    "        c=0\n",
    "        for k, v in zip(n.Nums.keys(), n.Nums.values()):\n",
    "            if v == True:\n",
    "                c +=1\n",
    "        if c == 0:\n",
    "            print(n.Nums)"
   ]
  },
  {
   "cell_type": "code",
   "execution_count": 1355,
   "metadata": {},
   "outputs": [],
   "source": [
    "FinalN.fill(6)"
   ]
  },
  {
   "cell_type": "code",
   "execution_count": 1388,
   "metadata": {},
   "outputs": [
    {
     "name": "stdout",
     "output_type": "stream",
     "text": [
      "{1: False, 2: False, 3: False, 4: False, 5: False, 6: False, 7: False, 8: False, 9: False}\n",
      "{1: False, 2: False, 3: False, 4: False, 5: False, 6: False, 7: False, 8: False, 9: False}\n",
      "{1: False, 2: False, 3: False, 4: False, 5: False, 6: False, 7: False, 8: False, 9: False}\n",
      "{1: False, 2: False, 3: False, 4: False, 5: False, 6: False, 7: False, 8: False, 9: False}\n",
      "{1: False, 2: False, 3: False, 4: False, 5: False, 6: False, 7: False, 8: False, 9: False}\n",
      "{1: False, 2: False, 3: False, 4: False, 5: False, 6: False, 7: False, 8: False, 9: False}\n"
     ]
    }
   ],
   "source": [
    "for n in s.Nodes:\n",
    "    #count trues\n",
    "    if n.Filled == 0:\n",
    "        c=0\n",
    "        for k, v in zip(n.Nums.keys(), n.Nums.values()):\n",
    "            if v == True:\n",
    "                c +=1\n",
    "        if c == 0:\n",
    "            print(n.Nums)"
   ]
  },
  {
   "cell_type": "code",
   "execution_count": null,
   "metadata": {},
   "outputs": [],
   "source": []
  },
  {
   "cell_type": "code",
   "execution_count": 1325,
   "metadata": {},
   "outputs": [],
   "source": [
    "FinalN.fill(1)"
   ]
  },
  {
   "cell_type": "code",
   "execution_count": 1326,
   "metadata": {},
   "outputs": [
    {
     "name": "stdout",
     "output_type": "stream",
     "text": [
      "{1: False, 2: False, 3: False, 4: False, 5: False, 6: False, 7: False, 8: False, 9: False}\n"
     ]
    }
   ],
   "source": [
    "for n in s.Nodes:\n",
    "    #count trues\n",
    "    if n.Filled == 0:\n",
    "        c=0\n",
    "        for k, v in zip(n.Nums.keys(), n.Nums.values()):\n",
    "            if v == True:\n",
    "                c +=1\n",
    "        if c == 0:\n",
    "            print(n.Nums)"
   ]
  },
  {
   "cell_type": "code",
   "execution_count": 1278,
   "metadata": {},
   "outputs": [],
   "source": [
    "FinalN.fill(5)"
   ]
  },
  {
   "cell_type": "code",
   "execution_count": 1294,
   "metadata": {},
   "outputs": [
    {
     "name": "stdout",
     "output_type": "stream",
     "text": [
      "{1: False, 2: False, 3: False, 4: False, 5: False, 6: False, 7: False, 8: False, 9: False}\n",
      "{1: False, 2: False, 3: False, 4: False, 5: False, 6: False, 7: False, 8: False, 9: False}\n",
      "{1: False, 2: False, 3: False, 4: False, 5: False, 6: False, 7: False, 8: False, 9: False}\n",
      "{1: False, 2: False, 3: False, 4: False, 5: False, 6: False, 7: False, 8: False, 9: False}\n"
     ]
    }
   ],
   "source": [
    "for n in s.Nodes:\n",
    "    #count trues\n",
    "    if n.Filled == 0:\n",
    "        c=0\n",
    "        for k, v in zip(n.Nums.keys(), n.Nums.values()):\n",
    "            if v == True:\n",
    "                c +=1\n",
    "        if c == 0:\n",
    "            print(n.Nums)"
   ]
  },
  {
   "cell_type": "code",
   "execution_count": null,
   "metadata": {},
   "outputs": [],
   "source": []
  },
  {
   "cell_type": "code",
   "execution_count": 1184,
   "metadata": {
    "scrolled": true
   },
   "outputs": [
    {
     "name": "stdout",
     "output_type": "stream",
     "text": [
      "Error: 2, found in row_0 0 times\n",
      "Error: 3, found in row_0 0 times\n",
      "Error: 4, found in row_0 0 times\n",
      "Error: 5, found in row_0 0 times\n",
      "Error: 6, found in row_0 0 times\n",
      "Error: 8, found in row_0 0 times\n",
      "Error: 1, found in row_1 0 times\n",
      "Error: 4, found in row_1 0 times\n",
      "Error: 5, found in row_1 0 times\n",
      "Error: 6, found in row_1 0 times\n",
      "Error: 7, found in row_1 0 times\n",
      "Error: 9, found in row_1 0 times\n",
      "Error: 1, found in row_2 0 times\n",
      "Error: 2, found in row_2 0 times\n",
      "Error: 3, found in row_2 0 times\n",
      "Error: 4, found in row_2 0 times\n",
      "Error: 7, found in row_2 0 times\n",
      "Error: 8, found in row_2 0 times\n",
      "Error: 1, found in row_3 0 times\n",
      "Error: 2, found in row_3 0 times\n",
      "Error: 4, found in row_3 0 times\n",
      "Error: 6, found in row_3 0 times\n",
      "Error: 7, found in row_3 0 times\n",
      "Error: 8, found in row_3 0 times\n",
      "Error: 3, found in row_4 0 times\n",
      "Error: 4, found in row_4 0 times\n",
      "Error: 5, found in row_4 0 times\n",
      "Error: 6, found in row_4 0 times\n",
      "Error: 7, found in row_4 0 times\n",
      "Error: 9, found in row_4 0 times\n",
      "Error: 1, found in row_5 0 times\n",
      "Error: 2, found in row_5 0 times\n",
      "Error: 3, found in row_5 0 times\n",
      "Error: 5, found in row_5 0 times\n",
      "Error: 7, found in row_5 0 times\n",
      "Error: 8, found in row_5 0 times\n",
      "Error: 9, found in row_5 0 times\n",
      "Error: 2, found in row_6 0 times\n",
      "Error: 4, found in row_6 0 times\n",
      "Error: 5, found in row_6 0 times\n",
      "Error: 6, found in row_6 0 times\n",
      "Error: 7, found in row_6 0 times\n",
      "Error: 8, found in row_6 0 times\n",
      "Error: 9, found in row_6 0 times\n",
      "Error: 2, found in row_7 0 times\n",
      "Error: 3, found in row_7 0 times\n",
      "Error: 5, found in row_7 0 times\n",
      "Error: 6, found in row_7 0 times\n",
      "Error: 8, found in row_7 0 times\n",
      "Error: 9, found in row_7 0 times\n",
      "Error: 1, found in row_8 0 times\n",
      "Error: 2, found in row_8 0 times\n",
      "Error: 4, found in row_8 0 times\n",
      "Error: 5, found in row_8 0 times\n",
      "Error: 6, found in row_8 0 times\n",
      "Error: 8, found in row_8 0 times\n",
      "Error: 9, found in row_8 0 times\n",
      "Error: 2, found in column_0 0 times\n",
      "Error: 4, found in column_0 0 times\n",
      "Error: 5, found in column_0 0 times\n",
      "Error: 7, found in column_0 0 times\n",
      "Error: 8, found in column_0 0 times\n",
      "Error: 9, found in column_0 0 times\n",
      "Error: 2, found in column_1 0 times\n",
      "Error: 5, found in column_1 0 times\n",
      "Error: 6, found in column_1 0 times\n",
      "Error: 7, found in column_1 0 times\n",
      "Error: 8, found in column_1 0 times\n",
      "Error: 9, found in column_1 0 times\n",
      "Error: 2, found in column_2 0 times\n",
      "Error: 3, found in column_2 0 times\n",
      "Error: 4, found in column_2 0 times\n",
      "Error: 6, found in column_2 0 times\n",
      "Error: 8, found in column_2 0 times\n",
      "Error: 1, found in column_3 0 times\n",
      "Error: 2, found in column_3 0 times\n",
      "Error: 4, found in column_3 0 times\n",
      "Error: 5, found in column_3 0 times\n",
      "Error: 7, found in column_3 0 times\n",
      "Error: 8, found in column_3 0 times\n",
      "Error: 9, found in column_3 0 times\n",
      "Error: 1, found in column_4 0 times\n",
      "Error: 3, found in column_4 0 times\n",
      "Error: 4, found in column_4 0 times\n",
      "Error: 5, found in column_4 0 times\n",
      "Error: 6, found in column_4 0 times\n",
      "Error: 7, found in column_4 0 times\n",
      "Error: 9, found in column_4 0 times\n",
      "Error: 1, found in column_5 0 times\n",
      "Error: 2, found in column_5 0 times\n",
      "Error: 3, found in column_5 0 times\n",
      "Error: 5, found in column_5 0 times\n",
      "Error: 6, found in column_5 0 times\n",
      "Error: 8, found in column_5 0 times\n",
      "Error: 9, found in column_5 0 times\n",
      "Error: 1, found in column_6 0 times\n",
      "Error: 2, found in column_6 0 times\n",
      "Error: 4, found in column_6 0 times\n",
      "Error: 6, found in column_6 0 times\n",
      "Error: 7, found in column_6 0 times\n",
      "Error: 8, found in column_6 0 times\n",
      "Error: 2, found in column_7 0 times\n",
      "Error: 3, found in column_7 0 times\n",
      "Error: 4, found in column_7 0 times\n",
      "Error: 5, found in column_7 0 times\n",
      "Error: 6, found in column_7 0 times\n",
      "Error: 7, found in column_7 0 times\n",
      "Error: 8, found in column_7 0 times\n",
      "Error: 1, found in column_8 0 times\n",
      "Error: 3, found in column_8 0 times\n",
      "Error: 4, found in column_8 0 times\n",
      "Error: 5, found in column_8 0 times\n",
      "Error: 6, found in column_8 0 times\n",
      "Error: 9, found in column_8 0 times\n",
      "Error: 2, found in square_0 0 times\n",
      "Error: 4, found in square_0 0 times\n",
      "Error: 5, found in square_0 0 times\n",
      "Error: 6, found in square_0 0 times\n",
      "Error: 7, found in square_0 0 times\n",
      "Error: 8, found in square_0 0 times\n",
      "Error: 1, found in square_1 0 times\n",
      "Error: 3, found in square_1 0 times\n",
      "Error: 4, found in square_1 0 times\n",
      "Error: 5, found in square_1 0 times\n",
      "Error: 8, found in square_1 0 times\n",
      "Error: 9, found in square_1 0 times\n",
      "Error: 1, found in square_2 0 times\n",
      "Error: 2, found in square_2 0 times\n",
      "Error: 3, found in square_2 0 times\n",
      "Error: 4, found in square_2 0 times\n",
      "Error: 6, found in square_2 0 times\n",
      "Error: 7, found in square_2 0 times\n",
      "Error: 2, found in square_3 0 times\n",
      "Error: 3, found in square_3 0 times\n",
      "Error: 4, found in square_3 0 times\n",
      "Error: 7, found in square_3 0 times\n",
      "Error: 8, found in square_3 0 times\n",
      "Error: 9, found in square_3 0 times\n",
      "Error: 1, found in square_4 0 times\n",
      "Error: 2, found in square_4 0 times\n",
      "Error: 5, found in square_4 0 times\n",
      "Error: 6, found in square_4 0 times\n",
      "Error: 7, found in square_4 0 times\n",
      "Error: 9, found in square_4 0 times\n",
      "Error: 1, found in square_5 0 times\n",
      "Error: 3, found in square_5 0 times\n",
      "Error: 4, found in square_5 0 times\n",
      "Error: 5, found in square_5 0 times\n",
      "Error: 6, found in square_5 0 times\n",
      "Error: 7, found in square_5 0 times\n",
      "Error: 8, found in square_5 0 times\n",
      "Error: 2, found in square_6 0 times\n",
      "Error: 5, found in square_6 0 times\n",
      "Error: 6, found in square_6 0 times\n",
      "Error: 8, found in square_6 0 times\n",
      "Error: 9, found in square_6 0 times\n",
      "Error: 1, found in square_7 0 times\n",
      "Error: 2, found in square_7 0 times\n",
      "Error: 3, found in square_7 0 times\n",
      "Error: 4, found in square_7 0 times\n",
      "Error: 5, found in square_7 0 times\n",
      "Error: 6, found in square_7 0 times\n",
      "Error: 7, found in square_7 0 times\n",
      "Error: 8, found in square_7 0 times\n",
      "Error: 9, found in square_7 0 times\n",
      "Error: 2, found in square_8 0 times\n",
      "Error: 4, found in square_8 0 times\n",
      "Error: 5, found in square_8 0 times\n",
      "Error: 6, found in square_8 0 times\n",
      "Error: 8, found in square_8 0 times\n",
      "Error: 9, found in square_8 0 times\n"
     ]
    }
   ],
   "source": [
    "s.CheckSolution()"
   ]
  },
  {
   "cell_type": "code",
   "execution_count": 1185,
   "metadata": {},
   "outputs": [],
   "source": [
    "\n",
    "\n",
    "\n",
    "def testing(obj):\n",
    "    for s in obj:\n",
    "        # for each row\n",
    "        for k, v in zip(s.Numfilled.keys(), s.Numfilled.values()):\n",
    "            # for each number\n",
    "            if v == False:\n",
    "\n",
    "                #checking\n",
    "                #if k == 6:\n",
    "                #print(s.ID)\n",
    "\n",
    "                # if not solved\n",
    "                # check each node left as options\n",
    "                holdrow = []\n",
    "                holdcolumn = []\n",
    "                for n in s.Nodes:\n",
    "                    if n.Nums[k] == True:\n",
    "                        holdrow.append(n.rowObj)\n",
    "                        holdcolumn.append(n.columnObj)\n",
    "\n",
    "                #checking\n",
    "                if (k == 6) and (s.ID) == 1:\n",
    "                    print(holdrow)\n",
    "                    print(holdcolumn)\n",
    "\n",
    "                    print(len(set(holdrow)))\n",
    "                    print(s.ID, end = \"\\n\\n\\n\\n\")\n",
    "                    \n",
    "                if len(set(holdrow)) == 1:\n",
    "                    # If only one row is marked\n",
    "                    for n in holdrow[0].Nodes:\n",
    "                        if (k == 6) and (s.ID) == 1:\n",
    "                            #print(holdrow[0].ID)\n",
    "                            print(n.squareObj.ID, end = \" \")\n",
    "                        if n.squareObj.ID != s.ID:\n",
    "                            if (k == 6) and (s.ID) == 1:\n",
    "                                print(\"removed\")\n",
    "                            # remove num as option\n",
    "                            # from the other nodes\n",
    "                            n.remove_option(k)\n",
    "\n",
    "                if len(set(holdcolumn)) == 1:\n",
    "                    # If only one row is marked\n",
    "                    for n in holdcolumn[0].Nodes:\n",
    "                        if n.squareObj.ID != s.ID:\n",
    "                            # remove num as option\n",
    "                            # from the other nodes\n",
    "                            n.remove_option(k)\n",
    "                            \n",
    "testing(s.Squares)"
   ]
  },
  {
   "cell_type": "code",
   "execution_count": 1186,
   "metadata": {},
   "outputs": [
    {
     "name": "stdout",
     "output_type": "stream",
     "text": [
      "{1: True, 2: False, 3: False, 4: False, 5: False, 6: False, 7: False, 8: False, 9: False}\n",
      "{1: False, 2: True, 3: False, 4: False, 5: True, 6: True, 7: False, 8: True, 9: False}\n",
      "{1: False, 2: True, 3: False, 4: True, 5: False, 6: True, 7: False, 8: True, 9: False}\n",
      "{1: False, 2: False, 3: False, 4: True, 5: True, 6: False, 7: False, 8: True, 9: False}\n",
      "{1: False, 2: False, 3: True, 4: True, 5: True, 6: False, 7: False, 8: False, 9: False}\n",
      "{1: False, 2: False, 3: False, 4: False, 5: False, 6: False, 7: True, 8: False, 9: False}\n",
      "{1: False, 2: True, 3: False, 4: True, 5: False, 6: True, 7: False, 8: False, 9: False}\n",
      "{1: False, 2: False, 3: False, 4: False, 5: False, 6: False, 7: False, 8: False, 9: True}\n",
      "{1: False, 2: False, 3: True, 4: True, 5: False, 6: True, 7: False, 8: False, 9: False}\n"
     ]
    }
   ],
   "source": [
    "for n in s.Rows[0].Nodes:\n",
    "    print(n.Nums)\n"
   ]
  },
  {
   "cell_type": "code",
   "execution_count": null,
   "metadata": {},
   "outputs": [],
   "source": []
  }
 ],
 "metadata": {
  "kernelspec": {
   "display_name": "Python 3",
   "language": "python",
   "name": "python3"
  },
  "language_info": {
   "codemirror_mode": {
    "name": "ipython",
    "version": 3
   },
   "file_extension": ".py",
   "mimetype": "text/x-python",
   "name": "python",
   "nbconvert_exporter": "python",
   "pygments_lexer": "ipython3",
   "version": "3.7.7"
  }
 },
 "nbformat": 4,
 "nbformat_minor": 4
}
